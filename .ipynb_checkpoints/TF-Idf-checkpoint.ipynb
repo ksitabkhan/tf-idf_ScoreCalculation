{
 "cells": [
  {
   "cell_type": "markdown",
   "metadata": {},
   "source": [
    "<h1><center>Implementation of Tf-Idf</center></h1>"
   ]
  },
  {
   "cell_type": "markdown",
   "metadata": {},
   "source": [
    "Adding libraries "
   ]
  },
  {
   "cell_type": "code",
   "execution_count": 11,
   "metadata": {},
   "outputs": [],
   "source": [
    "import pandas as pd\n",
    "import os\n",
    "from collections import Counter\n",
    "from scipy.sparse import csr_matrix\n",
    "import numpy as np\n",
    "import math\n",
    "import unicodedata"
   ]
  },
  {
   "cell_type": "markdown",
   "metadata": {},
   "source": [
    "The below function **remove_accented_chars** is used to replace all special letters like é,ó  and replace with plain english. This will help bring our content to a standard format. I have then called the function on a dummy string and tested it. "
   ]
  },
  {
   "cell_type": "code",
   "execution_count": 2,
   "metadata": {},
   "outputs": [],
   "source": [
    "def remove_accented_chars(text):\n",
    "    new_text = unicodedata.normalize('NFKD', text).encode('ascii', 'ignore').decode('utf-8', 'ignore')\n",
    "    return new_text"
   ]
  },
  {
   "cell_type": "code",
   "execution_count": 7,
   "metadata": {},
   "outputs": [
    {
     "data": {
      "text/plain": [
       "'Some Accented text. Some words such as resume, cafe, protest, divorce, coordinate, expose, latte.'"
      ]
     },
     "execution_count": 7,
     "metadata": {},
     "output_type": "execute_result"
    }
   ],
   "source": [
    "remove_accented_chars('Sómě Áccěntěd těxt. Some words such as résumé, café, prótest, divorcé, coördinate, exposé, latté.')"
   ]
  },
  {
   "cell_type": "code",
   "execution_count": 3,
   "metadata": {},
   "outputs": [],
   "source": [
    "# it accepts only list of sentances\n",
    "def fit(dataset):    \n",
    "    unique_words = set() # at first we will initialize an empty set\n",
    "    # check if its list type or not\n",
    "    if isinstance(dataset, (list,)):\n",
    "        for row in dataset: # for each review in the dataset\n",
    "            for word in row.split(\" \"): # for each word in the review. \n",
    "                #split method converts a string into list of words\n",
    "                if len(word) < 2:\n",
    "                    continue\n",
    "                unique_words.add(word)\n",
    "        unique_words = sorted(list(unique_words))\n",
    "        vocab = {j:i for i,j in enumerate(unique_words)}\n",
    "        \n",
    "        return vocab\n",
    "    else:\n",
    "        print(\"you need to pass list of sentance\")"
   ]
  },
  {
   "cell_type": "code",
   "execution_count": 4,
   "metadata": {},
   "outputs": [],
   "source": [
    "def Tf(String,word1):\n",
    "    Countword = len(String.split())\n",
    "    word_freq = dict(Counter(String.split()))\n",
    "    for word, freq in word_freq.items():\n",
    "        if word==word1:\n",
    "            tf = (freq/Countword)\n",
    "            break\n",
    "    return tf\n",
    "\n"
   ]
  },
  {
   "cell_type": "code",
   "execution_count": 5,
   "metadata": {},
   "outputs": [],
   "source": [
    "def Idf(String,dataset):\n",
    "    count = 0\n",
    "    for i,r in enumerate(dataset):\n",
    "        if String in r:\n",
    "            count = count+1\n",
    "            continue\n",
    "    return count\n",
    "\n"
   ]
  },
  {
   "cell_type": "code",
   "execution_count": 6,
   "metadata": {},
   "outputs": [],
   "source": [
    "def transform(dataset,vocab):\n",
    "    rows = []\n",
    "    columns = []\n",
    "    values = []\n",
    "    Count = 0\n",
    "    #tf = []\n",
    "    #idf = []\n",
    "    if isinstance(dataset, (list,)):\n",
    "        for idx, row in enumerate(dataset):\n",
    "            Countword = len(row.split())\n",
    "            word_freq = dict(Counter(row.split()))\n",
    "            for word, freq in word_freq.items():                 \n",
    "                if len(word) < 2:\n",
    "                    continue\n",
    "                col_index = vocab.get(word, -1)\n",
    "                if col_index !=-1:\n",
    "                    # we are storing the index of the document\n",
    "                    rows.append(idx)\n",
    "                    \n",
    "                    # we are storing the dimensions of the word\n",
    "                    columns.append(col_index)\n",
    "\n",
    "                    # we are storing the dimensions of the word\n",
    "                   #for i in sorted(vocab):\n",
    "                   #        if i == word:\n",
    "                              #idf = (1+(math.log((len(dataset)+1)/(vocab[i]+1))))\n",
    "                    tf = Tf(row,word)\n",
    "                    wordInDocument = Idf(word,dataset)\n",
    "                    size = len(dataset)+1\n",
    "                    doc = wordInDocument+1\n",
    "                    log = math.log(size/doc)\n",
    "                    idf = 1+log\n",
    "                    val = tf*idf\n",
    "                    values.append(val)\n",
    "                    continue\n",
    "\n",
    "\n",
    "        return csr_matrix((values, (rows,columns)), shape=(len(dataset),len(vocab)))\n",
    "    else:\n",
    "        print(\"you need to pass list of strings\")\n",
    "\n"
   ]
  },
  {
   "cell_type": "code",
   "execution_count": 8,
   "metadata": {},
   "outputs": [],
   "source": [
    "\n",
    "strings = [\n",
    "     'this is the first documént',\n",
    "     'this document is the second documént',\n",
    "     'and this is the third one',\n",
    "     'is this the first document',\n",
    "]\n",
    "\n",
    "new_ds = []\n",
    "for row in strings:\n",
    "    new_ds.append(remove_accented_chars(row))"
   ]
  },
  {
   "cell_type": "code",
   "execution_count": 9,
   "metadata": {},
   "outputs": [
    {
     "name": "stdout",
     "output_type": "stream",
     "text": [
      "{'and': 0, 'document': 1, 'first': 2, 'is': 3, 'one': 4, 'second': 5, 'the': 6, 'third': 7, 'this': 8}\n",
      "  (0, 1)\t0.24462871026284194\n",
      "  (0, 2)\t0.3021651247531982\n",
      "  (0, 3)\t0.2\n",
      "  (0, 6)\t0.2\n",
      "  (0, 8)\t0.2\n",
      "  (1, 1)\t0.40771451710473655\n",
      "  (1, 3)\t0.16666666666666666\n",
      "  (1, 5)\t0.3193817886456925\n",
      "  (1, 6)\t0.16666666666666666\n",
      "  (1, 8)\t0.16666666666666666\n",
      "  (2, 0)\t0.3193817886456925\n",
      "  (2, 3)\t0.16666666666666666\n",
      "  (2, 4)\t0.3193817886456925\n",
      "  (2, 6)\t0.16666666666666666\n",
      "  (2, 7)\t0.3193817886456925\n",
      "  (2, 8)\t0.16666666666666666\n",
      "  (3, 1)\t0.24462871026284194\n",
      "  (3, 2)\t0.3021651247531982\n",
      "  (3, 3)\t0.2\n",
      "  (3, 6)\t0.2\n",
      "  (3, 8)\t0.2\n"
     ]
    }
   ],
   "source": [
    "vocab = fit(new_ds)\n",
    "print(vocab)\n",
    "tfidf = transform(new_ds, vocab)\n",
    "print(tfidf)\n",
    "\n"
   ]
  },
  {
   "cell_type": "code",
   "execution_count": null,
   "metadata": {},
   "outputs": [],
   "source": []
  }
 ],
 "metadata": {
  "kernelspec": {
   "display_name": "Python 3",
   "language": "python",
   "name": "python3"
  },
  "language_info": {
   "codemirror_mode": {
    "name": "ipython",
    "version": 3
   },
   "file_extension": ".py",
   "mimetype": "text/x-python",
   "name": "python",
   "nbconvert_exporter": "python",
   "pygments_lexer": "ipython3",
   "version": "3.8.5"
  }
 },
 "nbformat": 4,
 "nbformat_minor": 4
}
